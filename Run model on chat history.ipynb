{
 "cells": [
  {
   "cell_type": "markdown",
   "id": "a2e564b0",
   "metadata": {},
   "source": [
    "# Imports and functions"
   ]
  },
  {
   "cell_type": "code",
   "execution_count": 1,
   "id": "837a0e98",
   "metadata": {},
   "outputs": [],
   "source": [
    "import torch\n",
    "import pickle\n",
    "from transformers import BertModel, BertTokenizerFast\n",
    "from tqdm import tqdm_notebook as tqdm"
   ]
  },
  {
   "cell_type": "code",
   "execution_count": 2,
   "id": "ae3d2898",
   "metadata": {},
   "outputs": [],
   "source": [
    "def save_object(obj, filename):\n",
    "    with open(filename, 'wb') as f:\n",
    "        pickle.dump(obj, f)\n",
    "\n",
    "\n",
    "def load_object(filename):\n",
    "    with open(filename, 'rb') as f:\n",
    "        obj = pickle.load(f)\n",
    "    return obj\n",
    "\n",
    "def read_raw_questions(filename):\n",
    "    with open(filename) as f:\n",
    "        lines = f.read().splitlines()\n",
    "    lines = list(filter(lambda line: ('באמצעות קישור ההזמנה' not in line), lines))\n",
    "    lines = list(filter(None, lines))\n",
    "    lines = list(filter(lambda line: ('<המדיה לא נכללה>' not in line), lines))\n",
    "    lines = list(filter(lambda line: ('הודעה זו נמחקה' not in line), lines))\n",
    "    lines = [':'.join(line.split(':')[2:])[:512] for line in lines] #remove time and id\n",
    "    lines = list(filter(None, lines))\n",
    "    lines = list(filter(lambda line: (len(line.split(' '))>4), lines)) #remove short messeges\n",
    "    return lines"
   ]
  },
  {
   "cell_type": "markdown",
   "id": "d5e75835",
   "metadata": {},
   "source": [
    "# Read and clean chat history"
   ]
  },
  {
   "cell_type": "code",
   "execution_count": 3,
   "id": "2b8d004f",
   "metadata": {},
   "outputs": [],
   "source": [
    "lines = read_raw_questions('history.txt')"
   ]
  },
  {
   "cell_type": "markdown",
   "id": "d85f21e8",
   "metadata": {},
   "source": [
    "# Import hebrew model"
   ]
  },
  {
   "cell_type": "code",
   "execution_count": 5,
   "id": "08078ea1",
   "metadata": {},
   "outputs": [
    {
     "name": "stderr",
     "output_type": "stream",
     "text": [
      "Some weights of the model checkpoint at onlplab/alephbert-base were not used when initializing BertModel: ['cls.predictions.transform.dense.weight', 'cls.predictions.decoder.bias', 'cls.predictions.decoder.weight', 'cls.predictions.transform.dense.bias', 'cls.predictions.transform.LayerNorm.bias', 'cls.predictions.transform.LayerNorm.weight', 'cls.predictions.bias']\n",
      "- This IS expected if you are initializing BertModel from the checkpoint of a model trained on another task or with another architecture (e.g. initializing a BertForSequenceClassification model from a BertForPreTraining model).\n",
      "- This IS NOT expected if you are initializing BertModel from the checkpoint of a model that you expect to be exactly identical (initializing a BertForSequenceClassification model from a BertForSequenceClassification model).\n"
     ]
    }
   ],
   "source": [
    "alephbert_tokenizer = BertTokenizerFast.from_pretrained('onlplab/alephbert-base')\n",
    "alephbert = BertModel.from_pretrained('onlplab/alephbert-base')"
   ]
  },
  {
   "cell_type": "code",
   "execution_count": 6,
   "id": "7a2160a5",
   "metadata": {},
   "outputs": [],
   "source": [
    "alephbert.pooler.activation = torch.nn.Identity()\n",
    "alephbert.eval()\n",
    "if torch.cuda.is_available():\n",
    "    alephbert.cuda()"
   ]
  },
  {
   "cell_type": "markdown",
   "id": "cf6e71d0",
   "metadata": {},
   "source": [
    "# Create embedding space"
   ]
  },
  {
   "cell_type": "code",
   "execution_count": 12,
   "id": "2d184b81",
   "metadata": {},
   "outputs": [
    {
     "name": "stderr",
     "output_type": "stream",
     "text": [
      "/tmp/ipykernel_774/1497132272.py:3: TqdmDeprecationWarning: This function will be removed in tqdm==5.0.0\n",
      "Please use `tqdm.notebook.tqdm` instead of `tqdm.tqdm_notebook`\n",
      "  for i in tqdm(range((len(lines)//batch_size) + 1)):\n"
     ]
    },
    {
     "data": {
      "application/vnd.jupyter.widget-view+json": {
       "model_id": "7d9cd1ef6f0e4b19b5138d03ef89f6cf",
       "version_major": 2,
       "version_minor": 0
      },
      "text/plain": [
       "  0%|          | 0/1755 [00:00<?, ?it/s]"
      ]
     },
     "metadata": {},
     "output_type": "display_data"
    }
   ],
   "source": [
    "batch_size = 10\n",
    "embedding_space = []\n",
    "for i in tqdm(range((len(lines)//batch_size) + 1)):\n",
    "    tokens = alephbert_tokenizer(lines[i*batch_size:(i+1)*batch_size], padding=True, return_tensors=\"pt\")\n",
    "    with torch.no_grad():\n",
    "        embedding_batch = alephbert(**tokens)['pooler_output']\n",
    "    embedding_space.append(embedding_batch)\n",
    "    \n",
    "embedding_space = torch.cat(embedding_space)\n",
    "save_object(embedding_space, 'embedding_space.pkl')\n",
    "\n",
    "with open('embedding_space_questions.txt', 'w') as f:\n",
    "    for line in lines:\n",
    "        f.write(\"%s\\n\" % line)"
   ]
  },
  {
   "cell_type": "markdown",
   "id": "8c014b1d",
   "metadata": {},
   "source": [
    "# Inference"
   ]
  },
  {
   "cell_type": "code",
   "execution_count": 13,
   "id": "fb70c6f0",
   "metadata": {
    "scrolled": true
   },
   "outputs": [],
   "source": [
    "embedding_space = load_object('embedding_space.pkl')\n",
    "with open('embedding_space_questions.txt') as f:\n",
    "        lines = f.read().splitlines()"
   ]
  },
  {
   "cell_type": "code",
   "execution_count": 15,
   "id": "ec388cfe",
   "metadata": {},
   "outputs": [],
   "source": [
    "new_questrion = [\"שלום הרב. אם הזמנתי צ'יפס בנפרד ממסעדה בשרית, ואכלתי אותו, האם צריך להמתין 6 שעות? תודה רהה\"]"
   ]
  },
  {
   "cell_type": "code",
   "execution_count": 17,
   "id": "9afe5388",
   "metadata": {},
   "outputs": [
    {
     "name": "stdout",
     "output_type": "stream",
     "text": [
      " שלום הרב. אם הזמנתי צ'יפס בנפרד ממסעדה בשרית, ואכלתי אותו, האם צריך להמתין 6 שעות? תודה רהה score: 0.00\n",
      " שלום הרב, הזמנתי משלוח ממסעדה בשרית והגיעה לאפה ריקה בשקית נייר בנפרד מהמנה הבשרית, האם מותר לאכול אותה עם גבינה? score: 5.05\n",
      " שלום הרב, ניתן לבלוע כדור פרוביוטיקה חלבי לאחר ארוחה בשרית? ואם לא האם צריך להמתין שש שעות? תודה רבה score: 5.85\n",
      " שלום הרב, צריך תזכורת- אם בישלתי/טיגנתי אוכל במחבת בשרית בת יומה- מותר לאכול את האוכל עם חלב? score: 5.89\n",
      " שלום הרב, האורז של הישיבה אחרי החימום שלו הוא בשרי? אפשרי לשתות/לאכול אחריו משהו חלבי? score: 5.92\n"
     ]
    }
   ],
   "source": [
    "tokens = alephbert_tokenizer(new_questrion, padding=True, return_tensors=\"pt\")\n",
    "\n",
    "with torch.no_grad():\n",
    "    new_embedding = alephbert(**tokens)['pooler_output']\n",
    "\n",
    "dist = torch.norm(embedding_space - new_embedding, dim=1, p=None)\n",
    "\n",
    "knn = dist.topk(5, largest=False)\n",
    "\n",
    "for i,d in zip(knn.indices,knn.values):\n",
    "    print(lines[i], 'score: %0.2f'%d)"
   ]
  },
  {
   "cell_type": "code",
   "execution_count": null,
   "id": "a5de5afa",
   "metadata": {},
   "outputs": [],
   "source": []
  }
 ],
 "metadata": {
  "kernelspec": {
   "display_name": "Python 3 (ipykernel)",
   "language": "python",
   "name": "python3"
  },
  "language_info": {
   "codemirror_mode": {
    "name": "ipython",
    "version": 3
   },
   "file_extension": ".py",
   "mimetype": "text/x-python",
   "name": "python",
   "nbconvert_exporter": "python",
   "pygments_lexer": "ipython3",
   "version": "3.8.10"
  }
 },
 "nbformat": 4,
 "nbformat_minor": 5
}
